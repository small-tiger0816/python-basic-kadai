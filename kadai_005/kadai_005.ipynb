{
  "cells": [
    {
      "cell_type": "code",
      "execution_count": 4,
      "metadata": {},
      "outputs": [
        {
          "name": "stdout",
          "output_type": "stream",
          "text": [
            "上辺：10㎝\n",
            "下辺：20㎝\n",
            "高さ：5㎝\n",
            "公式：台形の面積 = 75.0㎠\n"
          ]
        }
      ],
      "source": [
        "up = 10\n",
        "down = 20\n",
        "hight = 5\n",
        "\n",
        "print(\"上辺：\" + str(up) + \"㎝\")\n",
        "print(\"下辺：\" + str(down) + \"㎝\")\n",
        "print(\"高さ：\" + str(hight) + \"㎝\")\n",
        "area = (up + down) * hight / 2\n",
        "print(\"公式：台形の面積 = \" + str(area) + \"㎠\")"
      ]
    }
  ],
  "metadata": {
    "colab": {
      "name": "Colaboratory へようこそ",
      "provenance": [],
      "toc_visible": true
    },
    "kernelspec": {
      "display_name": "Python 3",
      "name": "python3"
    },
    "language_info": {
      "codemirror_mode": {
        "name": "ipython",
        "version": 3
      },
      "file_extension": ".py",
      "mimetype": "text/x-python",
      "name": "python",
      "nbconvert_exporter": "python",
      "pygments_lexer": "ipython3",
      "version": "3.8.10"
    }
  },
  "nbformat": 4,
  "nbformat_minor": 0
}
